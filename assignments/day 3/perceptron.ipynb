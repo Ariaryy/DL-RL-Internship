{
 "cells": [
  {
   "cell_type": "markdown",
   "id": "35b3a7e7",
   "metadata": {},
   "source": [
    "## Implement a simple Multi-layer perceptron from scratch in Python to solve a basic binary classification problem (e.g., XOR gate)"
   ]
  },
  {
   "cell_type": "code",
   "execution_count": 162,
   "id": "4580ce13",
   "metadata": {},
   "outputs": [],
   "source": [
    "import numpy as np\n",
    "import matplotlib.pyplot as plt"
   ]
  },
  {
   "cell_type": "code",
   "execution_count": 163,
   "id": "01d8b00b",
   "metadata": {},
   "outputs": [],
   "source": [
    "class Layer:\n",
    "    def __init__(self, input_size, output_size):\n",
    "        self.weights = np.random.randn(output_size, input_size)\n",
    "        self.biases = np.zeros((output_size, 1))\n",
    "        self.input = None\n",
    "        self.z = None\n",
    "        self.output = None\n",
    "\n",
    "    def forward(self, input_data):\n",
    "        self.input = input_data\n",
    "        self.z = np.dot(self.weights, input_data) + self.biases\n",
    "        self.output = self.sigmoid(self.z)\n",
    "        return self.output\n",
    "\n",
    "    def backward(self, d_output, learning_rate):\n",
    "        d_z = d_output * self.sigmoid_derivative(self.z)\n",
    "        d_weights = np.dot(d_z, self.input.T)\n",
    "        d_biases = d_z\n",
    "        d_input = np.dot(self.weights.T, d_z)\n",
    "\n",
    "        self.weights -= learning_rate * d_weights\n",
    "        self.biases -= learning_rate * np.mean(d_biases, axis=1, keepdims=True)\n",
    "\n",
    "        return d_input\n",
    "    \n",
    "    def sigmoid(self, x):\n",
    "        return 1 / (1 + np.exp(-x))\n",
    "\n",
    "    def sigmoid_derivative(self, x):\n",
    "        sx = self.sigmoid(x)\n",
    "        return sx * (1 - sx)\n",
    "\n",
    "class Perceptron:\n",
    "    def __init__(self):\n",
    "        self.layers = []\n",
    "\n",
    "    def add_layer(self, input_size, output_size):\n",
    "        self.layers.append(Layer(input_size, output_size))\n",
    "\n",
    "    def forward(self, input_data):\n",
    "        activation = input_data\n",
    "        for layer in self.layers:\n",
    "            activation = layer.forward(activation)\n",
    "        return activation\n",
    "\n",
    "    def train(self, x, y, learning_rate=0.1, epochs=1000):\n",
    "        for _ in range(epochs):\n",
    "            output = self.forward(x)\n",
    "            error = output - y\n",
    "            d_output = 2 * error\n",
    "\n",
    "            for layer in reversed(self.layers):\n",
    "                d_output = layer.backward(d_output, learning_rate)"
   ]
  },
  {
   "cell_type": "code",
   "execution_count": null,
   "id": "45e22523",
   "metadata": {},
   "outputs": [],
   "source": [
    "# XOR problem\n",
    "p = Perceptron()\n",
    "\n",
    "# Uses multi-layered perceptron\n",
    "p.add_layer(input_size=2, output_size=4) # Hidden layer\n",
    "p.add_layer(input_size=4, output_size=1) # Ouput layer\n",
    "\n",
    "x = np.array([[0, 0, 1, 1],\n",
    "              [0, 1, 0, 1]])  \n",
    "\n",
    "y = np.array([[0, 1, 1, 0]]) \n",
    "\n",
    "p.train(x, y, learning_rate=0.5, epochs=10000)"
   ]
  },
  {
   "cell_type": "code",
   "execution_count": 165,
   "id": "7a874761",
   "metadata": {},
   "outputs": [
    {
     "name": "stdout",
     "output_type": "stream",
     "text": [
      "0 XOR 0: 0\n",
      "0 XOR 1: 1\n",
      "1 XOR 0: 1\n",
      "1 XOR 1: 0\n"
     ]
    }
   ],
   "source": [
    "test = [(0, 0), (0, 1), (1, 0), (1, 1)]\n",
    "\n",
    "for x1, x2 in test:\n",
    "    output = (p.forward(np.array([[x1], [x2]]))[0][0])\n",
    "    print(f\"{x1} XOR {x2}: {round(output)}\")"
   ]
  },
  {
   "cell_type": "code",
   "execution_count": 166,
   "id": "afda00ee",
   "metadata": {},
   "outputs": [
    {
     "data": {
      "image/png": "[encoded data removed]",
      "text/plain": [
       "<Figure size 640x480 with 1 Axes>"
      ]
     },
     "metadata": {},
     "output_type": "display_data"
    }
   ],
   "source": [
    "h = 0.01  \n",
    "x_min, x_max = -0.1, 1.1\n",
    "y_min, y_max = -0.1, 1.1\n",
    "\n",
    "xx, yy = np.meshgrid(np.arange(x_min, x_max, h),\n",
    "                     np.arange(y_min, y_max, h))\n",
    "\n",
    "grid_points = np.c_[xx.ravel(), yy.ravel()].T \n",
    "\n",
    "Z = p.forward(grid_points) \n",
    "Z = Z.reshape(xx.shape)     \n",
    "\n",
    "plt.contourf(xx, yy, Z, levels=[0, 0.5, 1], alpha=0.6, cmap='coolwarm')\n",
    "\n",
    "train_inputs = np.array([[0, 0], [0, 1], [1, 0], [1, 1]])\n",
    "train_labels = np.array([0, 1, 1, 0])\n",
    "\n",
    "class0 = train_inputs[train_labels == 0]\n",
    "class1 = train_inputs[train_labels == 1]\n",
    "\n",
    "plt.scatter(class0[:, 0], class0[:, 1], c='white', edgecolors='k', s=80, label='0')\n",
    "plt.scatter(class1[:, 0], class1[:, 1], c='black', edgecolors='k', s=80, label='1')\n",
    "\n",
    "plt.title(\"XOR Decision Boundary\")\n",
    "plt.xlabel(\"x1\")\n",
    "plt.ylabel(\"x2\")\n",
    "plt.legend()\n",
    "plt.grid(True)\n",
    "plt.show()"
   ]
  }
 ],
 "metadata": {
  "kernelspec": {
   "display_name": "dl-rl-internship (3.12.10)",
   "language": "python",
   "name": "python3"
  },
  "language_info": {
   "codemirror_mode": {
    "name": "ipython",
    "version": 3
   },
   "file_extension": ".py",
   "mimetype": "text/x-python",
   "name": "python",
   "nbconvert_exporter": "python",
   "pygments_lexer": "ipython3",
   "version": "3.12.10"
  }
 },
 "nbformat": 4,
 "nbformat_minor": 5
}
